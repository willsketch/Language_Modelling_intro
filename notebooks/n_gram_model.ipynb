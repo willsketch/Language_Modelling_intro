{
 "cells": [
  {
   "cell_type": "code",
   "execution_count": 1,
   "id": "54d9ce08",
   "metadata": {},
   "outputs": [
    {
     "name": "stdout",
     "output_type": "stream",
     "text": [
      "/home/william/language_modelling_andrej/intro_pytorch/Language_Modelling_intro/notebooks\r\n"
     ]
    }
   ],
   "source": [
    "!pwd"
   ]
  },
  {
   "cell_type": "code",
   "execution_count": 2,
   "id": "bbca6671",
   "metadata": {},
   "outputs": [],
   "source": [
    "import torch\n",
    "import random\n",
    "import torch.nn.functional as F\n",
    "import matplotlib.pyplot as plt"
   ]
  },
  {
   "cell_type": "code",
   "execution_count": 3,
   "id": "e9bc1bdc",
   "metadata": {},
   "outputs": [],
   "source": [
    "words = open('../../names.txt', 'r').read().splitlines()"
   ]
  },
  {
   "cell_type": "code",
   "execution_count": 4,
   "id": "270b558b",
   "metadata": {},
   "outputs": [
    {
     "data": {
      "text/plain": [
       "32034"
      ]
     },
     "execution_count": 4,
     "metadata": {},
     "output_type": "execute_result"
    }
   ],
   "source": [
    "len(words)"
   ]
  },
  {
   "cell_type": "code",
   "execution_count": 5,
   "id": "f932b392",
   "metadata": {},
   "outputs": [
    {
     "data": {
      "text/plain": [
       "6.122245114565774"
      ]
     },
     "execution_count": 5,
     "metadata": {},
     "output_type": "execute_result"
    }
   ],
   "source": [
    "total_length= 0\n",
    "for word in words:\n",
    "    total_length+= len(word)\n",
    "average_length = total_length/len(words)\n",
    "average_length"
   ]
  },
  {
   "cell_type": "markdown",
   "id": "becc8c10",
   "metadata": {},
   "source": [
    "# Creating Dataset"
   ]
  },
  {
   "cell_type": "code",
   "execution_count": 6,
   "id": "7f00d05d",
   "metadata": {},
   "outputs": [],
   "source": [
    "unique = sorted(list(set(''.join(words))))\n",
    "stoi = {s:i+1 for i, s in enumerate(unique)}\n",
    "stoi['.'] =0\n",
    "itos = {i:s for s, i in stoi.items()}\n",
    "itos;"
   ]
  },
  {
   "cell_type": "code",
   "execution_count": 7,
   "id": "3a957740",
   "metadata": {},
   "outputs": [
    {
     "name": "stdout",
     "output_type": "stream",
     "text": [
      " test_split=28830, train_split=25627\n"
     ]
    }
   ],
   "source": [
    "\n",
    "test_split = int(0.9*len(words))\n",
    "train_split = int(0.8*len(words))\n",
    "print(f' {test_split=}, {train_split=}')"
   ]
  },
  {
   "cell_type": "code",
   "execution_count": 8,
   "id": "45457aca",
   "metadata": {},
   "outputs": [],
   "source": [
    "# def delete_multiple_element(list_object, indices):\n",
    "#     indices = sorted(indices, reverse=True)\n",
    "#     for idx in indices:\n",
    "#         if idx < len(list_object):\n",
    "#             list_object.pop(idx)\n",
    "# def sample_and_remove(list_object, num):\n",
    "#     #num is number of items to remove\n",
    "#     original_data= list_object\n",
    "#     data = list_object\n",
    "#     sample= random.sample(list(enumerate(data)), num)\n",
    "#     samples = [s[1] for s in sample]\n",
    "#     sample_ids= [s[0] for s in sample]\n",
    "#     delete_multiple_element(data, sample_ids)\n",
    "#     return samples, data\n"
   ]
  },
  {
   "cell_type": "code",
   "execution_count": 9,
   "id": "66d71069",
   "metadata": {},
   "outputs": [],
   "source": [
    "def train_test_val_split(words):\n",
    "    \n",
    "    random.shuffle(words)\n",
    "    train = words[:train_split]\n",
    "    val = words[train_split:test_split]\n",
    "    test= words[test_split:]\n",
    "    return train, val, test"
   ]
  },
  {
   "cell_type": "code",
   "execution_count": 10,
   "id": "12cae849",
   "metadata": {},
   "outputs": [],
   "source": [
    "train, val, test = train_test_val_split(words)"
   ]
  },
  {
   "cell_type": "code",
   "execution_count": 11,
   "id": "50a0f615",
   "metadata": {},
   "outputs": [],
   "source": [
    "check = all(w in train for w in val) or all(w in train for w in test)\n",
    "assert check is False"
   ]
  },
  {
   "cell_type": "code",
   "execution_count": 12,
   "id": "8008e843",
   "metadata": {},
   "outputs": [],
   "source": [
    "n_gram = 6\n",
    "def build_dataset(words, n_gram=6):\n",
    "    X = []\n",
    "    Y = []\n",
    "    num =0\n",
    "    for word in words:\n",
    "        word = word + '.'\n",
    "    #     print(word)\n",
    "        context = [0]* n_gram\n",
    "        for ch in word:\n",
    "            num +=1\n",
    "            ix = stoi[ch]\n",
    "            X.append(context)\n",
    "            Y.append(ix)\n",
    "    #         print(f\"{''.join((itos[c] for c in context))} ----> {itos[ix]}\")\n",
    "            context = context[1:] + [ix]\n",
    "    X = torch.tensor(X)\n",
    "    Y = torch.tensor(Y)\n",
    "    return X, Y\n",
    "X_train, y_train = build_dataset(train)\n",
    "X_val, y_val = build_dataset(val)\n",
    "X_test, y_test = build_dataset(test)\n"
   ]
  },
  {
   "cell_type": "code",
   "execution_count": 13,
   "id": "8ab8f8c2",
   "metadata": {},
   "outputs": [
    {
     "data": {
      "text/plain": [
       "(torch.Size([182599, 6]), torch.Size([22684, 6]), torch.Size([22871, 6]))"
      ]
     },
     "execution_count": 13,
     "metadata": {},
     "output_type": "execute_result"
    }
   ],
   "source": [
    "X_train.shape, X_val.shape, X_test.shape"
   ]
  },
  {
   "cell_type": "code",
   "execution_count": 14,
   "id": "604b9e7a",
   "metadata": {},
   "outputs": [
    {
     "data": {
      "text/plain": [
       "(torch.Size([182599]), torch.Size([22684]), torch.Size([22871]))"
      ]
     },
     "execution_count": 14,
     "metadata": {},
     "output_type": "execute_result"
    }
   ],
   "source": [
    "y_train.shape, y_val.shape, y_test.shape"
   ]
  },
  {
   "cell_type": "code",
   "execution_count": 15,
   "id": "8dc5bfcb",
   "metadata": {},
   "outputs": [],
   "source": [
    "g = torch.Generator().manual_seed(0)\n",
    "emb_dim = 15 # embedding dimensions\n",
    "C = torch.randn((27, emb_dim), generator=g)\n",
    "W1 = torch.randn((n_gram*emb_dim, 300),generator=g)* (5/3)/(n_gram*emb_dim)**0.5\n",
    "b1 = torch.randn(300, generator=g) * 0.1\n",
    "W2 = torch.randn((300, 27), generator=g) * 0.01\n",
    "b2 = torch.randn(27, generator=g) * 0"
   ]
  },
  {
   "cell_type": "code",
   "execution_count": 16,
   "id": "e6a7799c",
   "metadata": {},
   "outputs": [],
   "source": [
    "parameters = [C, W1, b1, W2, b2]\n",
    "for p in parameters:\n",
    "    p.requires_grad = True"
   ]
  },
  {
   "cell_type": "code",
   "execution_count": 17,
   "id": "a417e0da",
   "metadata": {},
   "outputs": [
    {
     "data": {
      "text/plain": [
       "35832"
      ]
     },
     "execution_count": 17,
     "metadata": {},
     "output_type": "execute_result"
    }
   ],
   "source": [
    "num_params = 0\n",
    "for p in parameters:\n",
    "    num_params += p.nelement()\n",
    "num_params"
   ]
  },
  {
   "cell_type": "code",
   "execution_count": 18,
   "id": "7d325235",
   "metadata": {},
   "outputs": [],
   "source": [
    "loss_history = []\n",
    "l_rates_e= torch.linspace(-3, -1, 1000)\n",
    "l_rates = l_rates_e.exp()\n",
    "l_rates;"
   ]
  },
  {
   "cell_type": "code",
   "execution_count": 19,
   "id": "77acc34f",
   "metadata": {},
   "outputs": [
    {
     "data": {
      "text/plain": [
       "torch.Size([64, 6])"
      ]
     },
     "execution_count": 19,
     "metadata": {},
     "output_type": "execute_result"
    }
   ],
   "source": [
    "batch_size = 64\n",
    "batch =torch.randint(low=0, high=X_train.shape[0], size=(batch_size,))\n",
    "X_train[batch].shape\n",
    "# Y[batch];"
   ]
  },
  {
   "cell_type": "code",
   "execution_count": 21,
   "id": "fc162093",
   "metadata": {
    "scrolled": true
   },
   "outputs": [],
   "source": [
    "# for epoch in range(100000):\n",
    "#     #batch construct\n",
    "#     batch =torch.randint(low=0, high=X_train.shape[0], size=(batch_size,))\n",
    "#     #forward pass\n",
    "#     #embedding layer\n",
    "#     emb = C[X_train[batch]]\n",
    "#     # emb = emb.view(-1, n_gram*emb_dim)\n",
    "#     #hidden layer\n",
    "#     h = torch.tanh((emb.view(-1, n_gram*emb_dim) @ W1) + b1)\n",
    "#     # h = torch.tanh(h)\n",
    "#     # output layer\n",
    "#     logits = (h @ W2) + b2\n",
    "#     # loss\n",
    "#     loss = F.cross_entropy(logits, y_train[batch])\n",
    "#     print(f'{loss=}, {epoch=}')\n",
    "#     #backward pass\n",
    "#     for p in parameters:\n",
    "#         p.grad = None\n",
    "#     loss.backward()\n",
    "#     #update parameters\n",
    "#     lr = 0.075 if epoch < 60000 else 0.001\n",
    "#     for p in parameters:\n",
    "#         p.data += lr*p.grad\n",
    "    \n",
    "#     #track stats\n",
    "#     loss_history.append(loss)\n"
   ]
  },
  {
   "cell_type": "code",
   "execution_count": null,
   "id": "4459e77f",
   "metadata": {},
   "outputs": [],
   "source": [
    "# #loss on train dataset\n",
    "# emb = C[X_train]\n",
    "# # emb = emb.view(-1, n_gram*emb_dim)\n",
    "# #hidden layer\n",
    "# h = torch.tanh((emb.view(-1, n_gram*emb_dim) @ W1) + b1)\n",
    "# # h = torch.tanh(h)\n",
    "# # output layer\n",
    "# logits = (h @ W2) + b2\n",
    "# # loss\n",
    "# loss = F.cross_entropy(logits, y_train)\n",
    "# loss"
   ]
  },
  {
   "cell_type": "code",
   "execution_count": 45,
   "id": "0ccf2fbd",
   "metadata": {},
   "outputs": [
    {
     "data": {
      "text/plain": [
       "tensor(2.0521, grad_fn=<NllLossBackward0>)"
      ]
     },
     "execution_count": 45,
     "metadata": {},
     "output_type": "execute_result"
    }
   ],
   "source": [
    "# #loss on val dataset\n",
    "# emb = C[X_val]\n",
    "# # emb = emb.view(-1, n_gram*emb_dim)\n",
    "# #hidden layer\n",
    "# h = torch.tanh((emb.view(-1, n_gram*emb_dim) @ W1) + b1)\n",
    "# # h = torch.tanh(h)\n",
    "# # output layer\n",
    "# logits = (h @ W2) + b2\n",
    "# # loss\n",
    "# loss = F.cross_entropy(logits, y_val)\n",
    "# loss"
   ]
  },
  {
   "cell_type": "code",
   "execution_count": 46,
   "id": "c90f3e17",
   "metadata": {},
   "outputs": [
    {
     "data": {
      "text/plain": [
       "tensor(2.0529, grad_fn=<NllLossBackward0>)"
      ]
     },
     "execution_count": 46,
     "metadata": {},
     "output_type": "execute_result"
    }
   ],
   "source": [
    "# #loss on test dataset\n",
    "# emb = C[X_test]\n",
    "# # emb = emb.view(-1, n_gram*emb_dim)\n",
    "# #hidden layer\n",
    "# h = torch.tanh((emb.view(-1, n_gram*emb_dim) @ W1) + b1)\n",
    "# # h = torch.tanh(h)\n",
    "# # output layer\n",
    "# logits = (h @ W2) + b2\n",
    "# # loss\n",
    "# loss = F.cross_entropy(logits, y_test)\n",
    "# loss"
   ]
  },
  {
   "cell_type": "code",
   "execution_count": 52,
   "id": "2f8b6ae2",
   "metadata": {},
   "outputs": [
    {
     "data": {
      "text/plain": [
       "120000"
      ]
     },
     "execution_count": 52,
     "metadata": {},
     "output_type": "execute_result"
    }
   ],
   "source": [
    "len(loss_history)"
   ]
  },
  {
   "cell_type": "code",
   "execution_count": 51,
   "id": "cb8dd22d",
   "metadata": {},
   "outputs": [
    {
     "data": {
      "text/plain": [
       "[<matplotlib.lines.Line2D at 0x7fa786f4cb20>]"
      ]
     },
     "execution_count": 51,
     "metadata": {},
     "output_type": "execute_result"
    },
    {
     "data": {
      "image/png": "[encoded data removed]",
      "text/plain": [
       "<Figure size 432x288 with 1 Axes>"
      ]
     },
     "metadata": {
      "needs_background": "light"
     },
     "output_type": "display_data"
    }
   ],
   "source": [
    "#plotting loss\n",
    "plt.plot(range(120000), loss_history)"
   ]
  },
  {
   "cell_type": "code",
   "execution_count": 1,
   "id": "b9470e55",
   "metadata": {},
   "outputs": [],
   "source": [
    "# for _ in range(20):\n",
    "#     out = []\n",
    "#     context = [0]*n_gram\n",
    "#     while True:\n",
    "#         emb = C[torch.tensor([context])]\n",
    "#         h = torch.tanh(emb.view(1, -1) @ W1 + b1)\n",
    "#         logits = h @ W2 + b2\n",
    "#         probs = F.softmax(logits, dim=1)\n",
    "#         ix = torch.multinomial(probs, num_samples=1, generator=g).item()\n",
    "#         context = context[1:] + [ix]\n",
    "#         out.append(ix)\n",
    "#         if ix == 0:\n",
    "#             break\n",
    "#     print(''.join(itos[i] for i in out))\n"
   ]
  },
  {
   "cell_type": "markdown",
   "id": "8796df56",
   "metadata": {},
   "source": [
    "# Packaging the code into modules"
   ]
  },
  {
   "cell_type": "code",
   "execution_count": 22,
   "id": "3428da26",
   "metadata": {},
   "outputs": [],
   "source": [
    "#define linear layers \n",
    "class Linear:\n",
    "    def __init__(self, fan_in, fan_out, bias= True):\n",
    "        self.fan_in = fan_in \n",
    "        self.fan_out = fan_out\n",
    "        self.weights = torch.randn(self.fan_in, self.fan_out)/fan_in**0.5\n",
    "        if bias:\n",
    "            self.bias = torch.randn(self.fan_out)* 0.1\n",
    "        self.bias = None\n",
    "            \n",
    "    def __call__(self, x):\n",
    "        self.out = x @ self.weights\n",
    "        if self.bias:\n",
    "            self.out += self.bias\n",
    "        return self.out\n",
    "    \n",
    "    def parameters(self):\n",
    "        if self.bias:\n",
    "            return [self.weights , self.bias]\n",
    "        return [self.weights]\n",
    "    "
   ]
  },
  {
   "cell_type": "code",
   "execution_count": 23,
   "id": "ea4ea805",
   "metadata": {},
   "outputs": [],
   "source": [
    "class Tanh:\n",
    "    def __call__(self, x):\n",
    "        self.out = torch.tanh(x)\n",
    "        return self.out\n",
    "    def parameters(self):\n",
    "        return None "
   ]
  },
  {
   "cell_type": "code",
   "execution_count": 45,
   "id": "d5887303",
   "metadata": {},
   "outputs": [],
   "source": [
    "class BatchNorm1d:\n",
    "    def __init__(self,dim, eps= 1e-5, momentum = 0.1, training=True):\n",
    "        self.eps = eps\n",
    "        self.momentum = momentum\n",
    "        self.training = training\n",
    "        #parameters trained with a backprop\n",
    "        self.beta = torch.zeros(dim)\n",
    "        self.gamma = torch.ones(dim)\n",
    "        #parameters optimized by momentum\n",
    "        self.running_mean = torch.zeros(dim)\n",
    "        self.running_var = torch.ones(dim)\n",
    "    \n",
    "    def __call__(self, x):\n",
    "        if self.training:\n",
    "            xmean = x.mean(0, keepdim =True)\n",
    "            xvar=  x.var(0, keepdim=True)\n",
    "        else:\n",
    "            xmean= self.running_mean\n",
    "            xvar = self.running_var\n",
    "        xhat = (x-xmean)/torch.sqrt(xvar + self.eps)\n",
    "        self.out = xhat * self.gamma + self.beta\n",
    "        return self.out \n",
    "        \n",
    "        # update running stats\n",
    "        with torch.no_grad():\n",
    "            self.running_mean= (1-self.momentum)*self.running_mean + self.momentum*xmean\n",
    "            self.running_var = (1-self.momentum)*self.running_var + self.momentum*xvar\n",
    "    def parameters(self):\n",
    "        return [self.gamma, self.beta]\n",
    "            "
   ]
  },
  {
   "cell_type": "code",
   "execution_count": 46,
   "id": "ea7aa243",
   "metadata": {},
   "outputs": [],
   "source": [
    "# initialization\n",
    "emb_size =  15  # embedding dimensions\n",
    "vocab_size = 27 # number of unique characters in the alphabet  + '.'\n",
    "n_gram = 6 #number of characters to consider\n",
    "hidden_nuerons= 100\n",
    "C = torch.randn((vocab_size, emb_size))\n",
    "layers = [\n",
    "    Linear(n_gram*emb_size, hidden_nuerons, bias=False), BatchNorm1d(hidden_nuerons), Tanh(),\n",
    "    Linear(hidden_nuerons, hidden_nuerons, bias=False), BatchNorm1d(hidden_nuerons), Tanh(),\n",
    "    Linear(hidden_nuerons, vocab_size, bias= False), BatchNorm1d(vocab_size),\n",
    "]\n"
   ]
  },
  {
   "cell_type": "code",
   "execution_count": 47,
   "id": "a3eb6cbf",
   "metadata": {},
   "outputs": [
    {
     "data": {
      "text/plain": [
       "22154"
      ]
     },
     "execution_count": 47,
     "metadata": {},
     "output_type": "execute_result"
    }
   ],
   "source": [
    "with torch.no_grad():\n",
    "    #make last layer less confident\n",
    "    layers[-1].gamma*0.1\n",
    "    for layer in layers:\n",
    "        if isinstance(layer, Linear):\n",
    "            layer.weights *= 5/3\n",
    "parameters_dict= {}\n",
    "parameters_dict['C'] = C\n",
    "parameters = [C]\n",
    "num_params = 0\n",
    "for i, layer in enumerate(layers):\n",
    "#     print(layer.__class__.__name__)\n",
    "    if layer.parameters():\n",
    "        name = f'{layer.__class__.__name__} {i}'\n",
    "        parameters_dict[name] = layer.parameters()\n",
    "        for p in layer.parameters():\n",
    "            num_params += p.nelement()\n",
    "#             print(p.shape)\n",
    "            parameters += [p]\n",
    "# set requires grad to true\n",
    "for p in parameters:\n",
    "    p.requires_grad =True\n",
    "num_params"
   ]
  },
  {
   "cell_type": "code",
   "execution_count": null,
   "id": "f6a2ff1f",
   "metadata": {},
   "outputs": [],
   "source": [
    "# fitting the layers\n",
    "max_steps = 100000\n",
    "loss_history = []\n",
    "for step in range(max_steps):\n",
    "    #batch construct\n",
    "    batch =torch.randint(low=0, high=X_train.shape[0], size=(batch_size,))\n",
    "    #forward pass\n",
    "    #embedding layer\n",
    "    emb = C[X_train[batch]]\n",
    "    x= emb.view(-1, n_gram*emb_dim)\n",
    "    #layers\n",
    "    for layer in layers:\n",
    "        x= layer(x)\n",
    "    loss= F.cross_entropy(x, y_train[batch])\n",
    "    \n",
    "    #backward pass\n",
    "    for layer in layers:\n",
    "        layer.out.retain_grad()\n",
    "    for p in parameters:\n",
    "        p.grad = None\n",
    "    loss.backward()\n",
    "    \n",
    "    #update\n",
    "    lr = 0.075 if epoch < 60000 else 0.001\n",
    "    for p in parameters:\n",
    "        p.data += -lr*p.grad\n",
    "    \n",
    "    #track stats\n",
    "    if step % 1000== 0:\n",
    "        print(f'{step:2d}/ {max_steps:2d} and loss is {loss.item()}')\n",
    "    \n",
    "    loss_history.append(loss)"
   ]
  },
  {
   "cell_type": "code",
   "execution_count": 164,
   "id": "7350b25e",
   "metadata": {},
   "outputs": [
    {
     "data": {
      "text/plain": [
       "tensor([ 0,  0,  0,  0,  0, 10])"
      ]
     },
     "execution_count": 164,
     "metadata": {},
     "output_type": "execute_result"
    }
   ],
   "source": [
    "# Running inference on dataset\n",
    "\n",
    "for _ in range(20):\n",
    "    out = []\n",
    "    context = [0]*n_gram\n",
    "    while True:\n",
    "        emb = C[X_train[batch]]\n",
    "        x= emb.view(-1, n_gram*emb_dim)\n",
    "        for layer in layers:\n",
    "            x= layer(x)\n",
    "        logits = x\n",
    "        probs = F.softmax(logits, dim=1)\n",
    "        ix = torch.multinomial(probs, num_samples=1, generator=g).item()\n",
    "        context = context[1:] + [ix]\n",
    "        out.append(ix)\n",
    "        if ix == 0:\n",
    "            break\n",
    "    print(''.join(itos[i] for i in out))\n"
   ]
  }
 ],
 "metadata": {
  "kernelspec": {
   "display_name": "Python 3",
   "language": "python",
   "name": "python3"
  },
  "language_info": {
   "codemirror_mode": {
    "name": "ipython",
    "version": 3
   },
   "file_extension": ".py",
   "mimetype": "text/x-python",
   "name": "python",
   "nbconvert_exporter": "python",
   "pygments_lexer": "ipython3",
   "version": "3.8.12 (default, Jul 11 2022, 15:52:42) \n[GCC 9.4.0]"
  },
  "toc": {
   "base_numbering": 1,
   "nav_menu": {},
   "number_sections": true,
   "sideBar": true,
   "skip_h1_title": false,
   "title_cell": "Table of Contents",
   "title_sidebar": "Contents",
   "toc_cell": false,
   "toc_position": {},
   "toc_section_display": true,
   "toc_window_display": false
  },
  "vscode": {
   "interpreter": {
    "hash": "164cfe647fc8dffc123f6c5126acbd09d4db0824dab12d818de62f1ba947b7dd"
   }
  }
 },
 "nbformat": 4,
 "nbformat_minor": 5
}
